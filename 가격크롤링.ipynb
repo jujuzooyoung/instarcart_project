{
 "cells": [
  {
   "cell_type": "code",
   "execution_count": 2,
   "id": "9a5c5e4e-3243-4270-8e6e-d9d739bea368",
   "metadata": {},
   "outputs": [
    {
     "name": "stdout",
     "output_type": "stream",
     "text": [
      "Requirement already satisfied: selenium in c:\\users\\gfddf\\anaconda3\\lib\\site-packages (4.29.0)\n",
      "Requirement already satisfied: webdriver-manager in c:\\users\\gfddf\\anaconda3\\lib\\site-packages (4.0.2)\n",
      "Requirement already satisfied: urllib3<3,>=1.26 in c:\\users\\gfddf\\anaconda3\\lib\\site-packages (from urllib3[socks]<3,>=1.26->selenium) (2.2.3)\n",
      "Requirement already satisfied: trio~=0.17 in c:\\users\\gfddf\\anaconda3\\lib\\site-packages (from selenium) (0.29.0)\n",
      "Requirement already satisfied: trio-websocket~=0.9 in c:\\users\\gfddf\\anaconda3\\lib\\site-packages (from selenium) (0.12.2)\n",
      "Requirement already satisfied: certifi>=2021.10.8 in c:\\users\\gfddf\\anaconda3\\lib\\site-packages (from selenium) (2024.8.30)\n",
      "Requirement already satisfied: typing_extensions~=4.9 in c:\\users\\gfddf\\anaconda3\\lib\\site-packages (from selenium) (4.11.0)\n",
      "Requirement already satisfied: websocket-client~=1.8 in c:\\users\\gfddf\\anaconda3\\lib\\site-packages (from selenium) (1.8.0)\n",
      "Requirement already satisfied: requests in c:\\users\\gfddf\\anaconda3\\lib\\site-packages (from webdriver-manager) (2.32.3)\n",
      "Requirement already satisfied: python-dotenv in c:\\users\\gfddf\\anaconda3\\lib\\site-packages (from webdriver-manager) (0.21.0)\n",
      "Requirement already satisfied: packaging in c:\\users\\gfddf\\anaconda3\\lib\\site-packages (from webdriver-manager) (24.1)\n",
      "Requirement already satisfied: attrs>=23.2.0 in c:\\users\\gfddf\\anaconda3\\lib\\site-packages (from trio~=0.17->selenium) (25.3.0)\n",
      "Requirement already satisfied: sortedcontainers in c:\\users\\gfddf\\anaconda3\\lib\\site-packages (from trio~=0.17->selenium) (2.4.0)\n",
      "Requirement already satisfied: idna in c:\\users\\gfddf\\anaconda3\\lib\\site-packages (from trio~=0.17->selenium) (3.7)\n",
      "Requirement already satisfied: outcome in c:\\users\\gfddf\\anaconda3\\lib\\site-packages (from trio~=0.17->selenium) (1.3.0.post0)\n",
      "Requirement already satisfied: sniffio>=1.3.0 in c:\\users\\gfddf\\anaconda3\\lib\\site-packages (from trio~=0.17->selenium) (1.3.0)\n",
      "Requirement already satisfied: cffi>=1.14 in c:\\users\\gfddf\\anaconda3\\lib\\site-packages (from trio~=0.17->selenium) (1.17.1)\n",
      "Requirement already satisfied: wsproto>=0.14 in c:\\users\\gfddf\\anaconda3\\lib\\site-packages (from trio-websocket~=0.9->selenium) (1.2.0)\n",
      "Requirement already satisfied: pysocks!=1.5.7,<2.0,>=1.5.6 in c:\\users\\gfddf\\anaconda3\\lib\\site-packages (from urllib3[socks]<3,>=1.26->selenium) (1.7.1)\n",
      "Requirement already satisfied: charset-normalizer<4,>=2 in c:\\users\\gfddf\\anaconda3\\lib\\site-packages (from requests->webdriver-manager) (3.3.2)\n",
      "Requirement already satisfied: pycparser in c:\\users\\gfddf\\anaconda3\\lib\\site-packages (from cffi>=1.14->trio~=0.17->selenium) (2.21)\n",
      "Requirement already satisfied: h11<1,>=0.9.0 in c:\\users\\gfddf\\anaconda3\\lib\\site-packages (from wsproto>=0.14->trio-websocket~=0.9->selenium) (0.14.0)\n",
      "Note: you may need to restart the kernel to use updated packages.\n"
     ]
    }
   ],
   "source": [
    "%pip install selenium webdriver-manager"
   ]
  },
  {
   "cell_type": "code",
   "execution_count": 3,
   "id": "041160ee-ac95-4a59-bccf-598b592fe8dc",
   "metadata": {},
   "outputs": [
    {
     "name": "stdout",
     "output_type": "stream",
     "text": [
      "Requirement already satisfied: undetected-chromedriver in c:\\users\\gfddf\\anaconda3\\lib\\site-packages (3.5.5)\n",
      "Requirement already satisfied: selenium>=4.9.0 in c:\\users\\gfddf\\anaconda3\\lib\\site-packages (from undetected-chromedriver) (4.29.0)\n",
      "Requirement already satisfied: requests in c:\\users\\gfddf\\anaconda3\\lib\\site-packages (from undetected-chromedriver) (2.32.3)\n",
      "Requirement already satisfied: websockets in c:\\users\\gfddf\\anaconda3\\lib\\site-packages (from undetected-chromedriver) (15.0.1)\n",
      "Requirement already satisfied: urllib3<3,>=1.26 in c:\\users\\gfddf\\anaconda3\\lib\\site-packages (from urllib3[socks]<3,>=1.26->selenium>=4.9.0->undetected-chromedriver) (2.2.3)\n",
      "Requirement already satisfied: trio~=0.17 in c:\\users\\gfddf\\anaconda3\\lib\\site-packages (from selenium>=4.9.0->undetected-chromedriver) (0.29.0)\n",
      "Requirement already satisfied: trio-websocket~=0.9 in c:\\users\\gfddf\\anaconda3\\lib\\site-packages (from selenium>=4.9.0->undetected-chromedriver) (0.12.2)\n",
      "Requirement already satisfied: certifi>=2021.10.8 in c:\\users\\gfddf\\anaconda3\\lib\\site-packages (from selenium>=4.9.0->undetected-chromedriver) (2024.8.30)\n",
      "Requirement already satisfied: typing_extensions~=4.9 in c:\\users\\gfddf\\anaconda3\\lib\\site-packages (from selenium>=4.9.0->undetected-chromedriver) (4.11.0)\n",
      "Requirement already satisfied: websocket-client~=1.8 in c:\\users\\gfddf\\anaconda3\\lib\\site-packages (from selenium>=4.9.0->undetected-chromedriver) (1.8.0)\n",
      "Requirement already satisfied: charset-normalizer<4,>=2 in c:\\users\\gfddf\\anaconda3\\lib\\site-packages (from requests->undetected-chromedriver) (3.3.2)\n",
      "Requirement already satisfied: idna<4,>=2.5 in c:\\users\\gfddf\\anaconda3\\lib\\site-packages (from requests->undetected-chromedriver) (3.7)\n",
      "Requirement already satisfied: attrs>=23.2.0 in c:\\users\\gfddf\\anaconda3\\lib\\site-packages (from trio~=0.17->selenium>=4.9.0->undetected-chromedriver) (25.3.0)\n",
      "Requirement already satisfied: sortedcontainers in c:\\users\\gfddf\\anaconda3\\lib\\site-packages (from trio~=0.17->selenium>=4.9.0->undetected-chromedriver) (2.4.0)\n",
      "Requirement already satisfied: outcome in c:\\users\\gfddf\\anaconda3\\lib\\site-packages (from trio~=0.17->selenium>=4.9.0->undetected-chromedriver) (1.3.0.post0)\n",
      "Requirement already satisfied: sniffio>=1.3.0 in c:\\users\\gfddf\\anaconda3\\lib\\site-packages (from trio~=0.17->selenium>=4.9.0->undetected-chromedriver) (1.3.0)\n",
      "Requirement already satisfied: cffi>=1.14 in c:\\users\\gfddf\\anaconda3\\lib\\site-packages (from trio~=0.17->selenium>=4.9.0->undetected-chromedriver) (1.17.1)\n",
      "Requirement already satisfied: wsproto>=0.14 in c:\\users\\gfddf\\anaconda3\\lib\\site-packages (from trio-websocket~=0.9->selenium>=4.9.0->undetected-chromedriver) (1.2.0)\n",
      "Requirement already satisfied: pysocks!=1.5.7,<2.0,>=1.5.6 in c:\\users\\gfddf\\anaconda3\\lib\\site-packages (from urllib3[socks]<3,>=1.26->selenium>=4.9.0->undetected-chromedriver) (1.7.1)\n",
      "Requirement already satisfied: pycparser in c:\\users\\gfddf\\anaconda3\\lib\\site-packages (from cffi>=1.14->trio~=0.17->selenium>=4.9.0->undetected-chromedriver) (2.21)\n",
      "Requirement already satisfied: h11<1,>=0.9.0 in c:\\users\\gfddf\\anaconda3\\lib\\site-packages (from wsproto>=0.14->trio-websocket~=0.9->selenium>=4.9.0->undetected-chromedriver) (0.14.0)\n"
     ]
    }
   ],
   "source": [
    "!pip install undetected-chromedriver"
   ]
  },
  {
   "cell_type": "code",
   "execution_count": 1,
   "id": "b7c5c0db-c35c-464e-8200-ca916d929838",
   "metadata": {},
   "outputs": [
    {
     "data": {
      "text/plain": [
       "'C:\\\\Users\\\\gfddf\\\\.wdm\\\\drivers\\\\chromedriver\\\\win64\\\\135.0.7049.84\\\\chromedriver-win32/chromedriver.exe'"
      ]
     },
     "execution_count": 1,
     "metadata": {},
     "output_type": "execute_result"
    }
   ],
   "source": [
    "from webdriver_manager.chrome import ChromeDriverManager #한달마다 크롬 업데이트 되니까 그때마다 한 번씩 더 실행시켜기기\n",
    "\n",
    "ChromeDriverManager().install()"
   ]
  },
  {
   "cell_type": "code",
   "execution_count": 2,
   "id": "392c328f-d64d-43b1-8f81-4c5f80ba1f76",
   "metadata": {},
   "outputs": [],
   "source": [
    "from selenium import webdriver\n",
    "import undetected_chromedriver as uc\n",
    "\n",
    "options = uc.ChromeOptions()\n",
    "options.add_argument(\"--disable-blink-features=AutomationControlled\")  # 탐지 우회\n",
    "driver = uc.Chrome(version_main=134, options=options)\n",
    "\n",
    "url = 'https://www.instacart.com/store/?categoryFilter=homeTabForYou'\n",
    "\n",
    "driver.get(url)"
   ]
  },
  {
   "cell_type": "code",
   "execution_count": 15,
   "id": "55a2b34d-593a-46f3-90c8-518792e5ecc8",
   "metadata": {},
   "outputs": [],
   "source": [
    "from selenium.webdriver.support.ui import WebDriverWait\n",
    "from selenium.webdriver.support import expected_conditions as EC\n",
    "from selenium.webdriver.common.by import By\n",
    "from selenium.webdriver.common.keys import Keys\n",
    "import time\n",
    "\n",
    "aisles = [\n",
    "    \"eggs\",\n",
    "    \"fresh vegetables\",\n",
    "    \"spices seasonings\",\n",
    "    \"oils vinegars\",\n",
    "    \"baking ingredients\",\n",
    "    \"doughs gelatins bake mixes\",\n",
    "    \"spreads\",\n",
    "    \"packaged vegetables fruits\",\n",
    "    \"yogurt\",\n",
    "    \"soy lactosefree\",\n",
    "    \"poultry counter\",\n",
    "    \"bread\",\n",
    "    \"breakfast bakery\",\n",
    "    \"cold flu allergy\",\n",
    "    \"energy granola bars\",\n",
    "    \"breakfast bars pastries\",\n",
    "    \"chips pretzels\",\n",
    "    \"trail mix snack mix\",\n",
    "    \"crackers\",\n",
    "    \"refrigerated\",\n",
    "    \"energy sports drinks\",\n",
    "    \"fresh fruits\",\n",
    "    \"salad dressing toppings\",\n",
    "    \"prepared soups salads\",\n",
    "    \"milk\",\n",
    "    \"paper goods\",\n",
    "    \"water seltzer sparkling water\",\n",
    "    \"kosher foods\",\n",
    "    \"packaged poultry\",\n",
    "    \"packaged cheese\",\n",
    "    \"instant foods\",\n",
    "    \"packaged produce\",\n",
    "    \"cookies cakes\",\n",
    "    \"candy chocolate\",\n",
    "    \"body lotions soap\",\n",
    "    \"dry pasta\",\n",
    "    \"laundry\",\n",
    "    \"air fresheners candles\",\n",
    "    \"frozen produce\",\n",
    "    \"buns rolls\",\n",
    "    \"canned fruit applesauce\",\n",
    "    \"juice nectars\",\n",
    "    \"granola\"\n",
    "]"
   ]
  },
  {
   "cell_type": "code",
   "execution_count": 16,
   "id": "61c909bb-dc55-4aa3-a14b-af753d888d65",
   "metadata": {},
   "outputs": [],
   "source": [
    "def XPATH_input(i, j):\n",
    "    a = f'//*[@id=\"store-wrapper\"]/div/div/ul/li[{i}]/div[1]/div/div/div/div/div[2]/ul/div[{j}]/li/div/div/h3/div/a/div[2]/div/div[1]/div[1]/div[1]/span[2]/span[2]'\n",
    "    b = f'//*[@id=\"store-wrapper\"]/div/div/ul/li[{i}]/div[1]/div/div/div/div/div[2]/ul/div[{j}]/li/div/div/h3/div/a/div[2]/div/div[1]/div[1]/div[1]/span[2]/span[3]'\n",
    "    return a, b\n",
    "\n",
    "def product_price_li():\n",
    "    product_price = []\n",
    "\n",
    "    i = 1\n",
    "    stop_flag = True\n",
    "    scroll_count = 0\n",
    "\n",
    "    while stop_flag:\n",
    "        for j in range(1,7):\n",
    "            a, b = XPATH_input(i,j)\n",
    "            try:\n",
    "                # prod_a = driver.find_element(By.XPATH, a).text\n",
    "                # prod_b = driver.find_element(By.XPATH, b).text\n",
    "                prod_a = WebDriverWait(driver, 2).until(\n",
    "                    EC.presence_of_element_located((By.XPATH, a))\n",
    "                ).text\n",
    "                prod_b = WebDriverWait(driver, 2).until(\n",
    "                    EC.presence_of_element_located((By.XPATH, b))\n",
    "                ).text\n",
    "                prod_merge = float(prod_a+'.'+prod_b)\n",
    "                product_price.append(prod_merge)\n",
    "            except:\n",
    "                continue\n",
    "            if len(product_price) > 14:\n",
    "                stop_flag= False\n",
    "                break\n",
    "        i+=1\n",
    "\n",
    "        # 더 이상 아이템이 안 보이면 스크롤 실행 (최대 5번)\n",
    "        if stop_flag and scroll_count < 3:\n",
    "            driver.execute_script(\"window.scrollTo(0, document.body.scrollHeight);\")\n",
    "            time.sleep(2)\n",
    "            scroll_count += 1\n",
    "        else:\n",
    "            stop_flag = False\n",
    "            \n",
    "    if product_price: \n",
    "        product_mean = sum(product_price)/len(product_price)\n",
    "    else:\n",
    "        product_mean = None\n",
    "    return product_mean"
   ]
  },
  {
   "cell_type": "code",
   "execution_count": 17,
   "id": "dd947b16-6eba-4c81-9252-af0322afdc2c",
   "metadata": {},
   "outputs": [
    {
     "name": "stdout",
     "output_type": "stream",
     "text": [
      "eggs 7.618571428571428\n",
      "oils vinegars 5.67\n",
      "baking ingredients 0.92\n",
      "prepared soups salads 7.864999999999999\n"
     ]
    }
   ],
   "source": [
    "products_mean = {}\n",
    "\n",
    "for aisle in aisles:\n",
    "    driver.find_element(By.ID, 'search-bar-input').send_keys(aisle)\n",
    "    driver.find_element(By.ID, 'search-bar-input').send_keys(Keys.ENTER)\n",
    "    time.sleep(2)\n",
    "    \n",
    "    try:\n",
    "        clear_button = WebDriverWait(driver, 5).until(\n",
    "            EC.element_to_be_clickable((By.CLASS_NAME, \"e-7oyql3\"))\n",
    "        )\n",
    "        clear_button.click()\n",
    "    except:\n",
    "        print(\"삭제 버튼을 찾을 수 없음\")\n",
    "\n",
    "    data = product_price_li()\n",
    "    if data:\n",
    "        products_mean[aisle] = data\n",
    "        print(aisle, data)"
   ]
  }
 ],
 "metadata": {
  "kernelspec": {
   "display_name": "Python 3 (ipykernel)",
   "language": "python",
   "name": "python3"
  },
  "language_info": {
   "codemirror_mode": {
    "name": "ipython",
    "version": 3
   },
   "file_extension": ".py",
   "mimetype": "text/x-python",
   "name": "python",
   "nbconvert_exporter": "python",
   "pygments_lexer": "ipython3",
   "version": "3.12.7"
  }
 },
 "nbformat": 4,
 "nbformat_minor": 5
}
